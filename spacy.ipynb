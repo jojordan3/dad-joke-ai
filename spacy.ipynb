{
 "cells": [
  {
   "cell_type": "code",
   "execution_count": 1,
   "metadata": {},
   "outputs": [],
   "source": [
    "import numpy as np\n",
    "import pandas as pd\n",
    "import matplotlib.pyplot as plt\n",
    "import spacy\n",
    "import re\n",
    "\n",
    "\n",
    "from sklearn.model_selection import train_test_split "
   ]
  },
  {
   "cell_type": "code",
   "execution_count": 2,
   "metadata": {},
   "outputs": [
    {
     "name": "stdout",
     "output_type": "stream",
     "text": [
      "['sentencizer', 'pytt_wordpiecer', 'pytt_tok2vec']\n",
      "['sentencizer', 'pytt_wordpiecer', 'pytt_tok2vec']\n"
     ]
    }
   ],
   "source": [
    "is_using_gpu = spacy.prefer_gpu()\n",
    "if is_using_gpu:\n",
    "    torch.set_default_tensor_type(\"torch.cuda.FloatTensor\")\n",
    "\n",
    "nlp_roberta = spacy.load('en_pytt_robertabase_lg')\n",
    "nlp_xlnet = spacy.load('en_pytt_xlnetbasecased_lg')\n",
    "print(nlp_roberta.pipe_names)\n",
    "print(nlp_xlnet.pipe_names)"
   ]
  },
  {
   "cell_type": "code",
   "execution_count": 3,
   "metadata": {},
   "outputs": [
    {
     "data": {
      "text/html": [
       "<div>\n",
       "<style scoped>\n",
       "    .dataframe tbody tr th:only-of-type {\n",
       "        vertical-align: middle;\n",
       "    }\n",
       "\n",
       "    .dataframe tbody tr th {\n",
       "        vertical-align: top;\n",
       "    }\n",
       "\n",
       "    .dataframe thead th {\n",
       "        text-align: right;\n",
       "    }\n",
       "</style>\n",
       "<table border=\"1\" class=\"dataframe\">\n",
       "  <thead>\n",
       "    <tr style=\"text-align: right;\">\n",
       "      <th></th>\n",
       "      <th>id</th>\n",
       "      <th>createdUTC</th>\n",
       "      <th>parent_createdUTC</th>\n",
       "      <th>author</th>\n",
       "      <th>title</th>\n",
       "      <th>selftext</th>\n",
       "      <th>score</th>\n",
       "      <th>num_comments</th>\n",
       "    </tr>\n",
       "  </thead>\n",
       "  <tbody>\n",
       "    <tr>\n",
       "      <td>0</td>\n",
       "      <td>czh0b5</td>\n",
       "      <td>1567577877</td>\n",
       "      <td>NaN</td>\n",
       "      <td>CMoy1980</td>\n",
       "      <td>Did you know about the Mexican holiday that ce...</td>\n",
       "      <td>It’s called Queso Dia</td>\n",
       "      <td>1</td>\n",
       "      <td>0</td>\n",
       "    </tr>\n",
       "    <tr>\n",
       "      <td>1</td>\n",
       "      <td>czgzij</td>\n",
       "      <td>1567577703</td>\n",
       "      <td>NaN</td>\n",
       "      <td>xjohnnyxleex</td>\n",
       "      <td>No wonder batteries die, it's gotta hurt to ne...</td>\n",
       "      <td>NaN</td>\n",
       "      <td>1</td>\n",
       "      <td>1</td>\n",
       "    </tr>\n",
       "    <tr>\n",
       "      <td>2</td>\n",
       "      <td>czgr1x</td>\n",
       "      <td>1567576067</td>\n",
       "      <td>NaN</td>\n",
       "      <td>kwagmyre1907</td>\n",
       "      <td>What does the priest of the Vegetable Church say?</td>\n",
       "      <td>Lettuce pray</td>\n",
       "      <td>1</td>\n",
       "      <td>0</td>\n",
       "    </tr>\n",
       "    <tr>\n",
       "      <td>3</td>\n",
       "      <td>czgqyv</td>\n",
       "      <td>1567576046</td>\n",
       "      <td>NaN</td>\n",
       "      <td>wonder-er</td>\n",
       "      <td>Did you hear about the guy who got arrested fo...</td>\n",
       "      <td>He made bale.</td>\n",
       "      <td>1</td>\n",
       "      <td>0</td>\n",
       "    </tr>\n",
       "    <tr>\n",
       "      <td>4</td>\n",
       "      <td>czglpu</td>\n",
       "      <td>1567574996</td>\n",
       "      <td>NaN</td>\n",
       "      <td>DesertRebel</td>\n",
       "      <td>Shot my first turkey last year</td>\n",
       "      <td>Scared the shit out of everyone in the frozen ...</td>\n",
       "      <td>1</td>\n",
       "      <td>0</td>\n",
       "    </tr>\n",
       "  </tbody>\n",
       "</table>\n",
       "</div>"
      ],
      "text/plain": [
       "       id  createdUTC  parent_createdUTC        author  \\\n",
       "0  czh0b5  1567577877                NaN      CMoy1980   \n",
       "1  czgzij  1567577703                NaN  xjohnnyxleex   \n",
       "2  czgr1x  1567576067                NaN  kwagmyre1907   \n",
       "3  czgqyv  1567576046                NaN     wonder-er   \n",
       "4  czglpu  1567574996                NaN   DesertRebel   \n",
       "\n",
       "                                               title  \\\n",
       "0  Did you know about the Mexican holiday that ce...   \n",
       "1  No wonder batteries die, it's gotta hurt to ne...   \n",
       "2  What does the priest of the Vegetable Church say?   \n",
       "3  Did you hear about the guy who got arrested fo...   \n",
       "4                     Shot my first turkey last year   \n",
       "\n",
       "                                            selftext  score  num_comments  \n",
       "0                              It’s called Queso Dia      1             0  \n",
       "1                                                NaN      1             1  \n",
       "2                                       Lettuce pray      1             0  \n",
       "3                                      He made bale.      1             0  \n",
       "4  Scared the shit out of everyone in the frozen ...      1             0  "
      ]
     },
     "execution_count": 3,
     "metadata": {},
     "output_type": "execute_result"
    }
   ],
   "source": [
    "csv_path = 'dadjokes-subreddit-archive/data_dadjokes.csv'\n",
    "jokes_path = 'dadjokes-subreddit-archive/data_jokes.csv'\n",
    "\n",
    "jokes = pd.read_csv(jokes_path, na_values=[\"[deleted]\", \"\",'N/A'], sep='|')\n",
    "dj = pd.read_csv(csv_path, na_values=[\"[deleted]\", \"\",'N/A'], sep='|')\n",
    "dj.head()"
   ]
  },
  {
   "cell_type": "code",
   "execution_count": 4,
   "metadata": {},
   "outputs": [
    {
     "data": {
      "text/html": [
       "<div>\n",
       "<style scoped>\n",
       "    .dataframe tbody tr th:only-of-type {\n",
       "        vertical-align: middle;\n",
       "    }\n",
       "\n",
       "    .dataframe tbody tr th {\n",
       "        vertical-align: top;\n",
       "    }\n",
       "\n",
       "    .dataframe thead th {\n",
       "        text-align: right;\n",
       "    }\n",
       "</style>\n",
       "<table border=\"1\" class=\"dataframe\">\n",
       "  <thead>\n",
       "    <tr style=\"text-align: right;\">\n",
       "      <th></th>\n",
       "      <th>id</th>\n",
       "      <th>createdUTC</th>\n",
       "      <th>parent_createdUTC</th>\n",
       "      <th>author</th>\n",
       "      <th>title</th>\n",
       "      <th>selftext</th>\n",
       "      <th>score</th>\n",
       "      <th>num_comments</th>\n",
       "    </tr>\n",
       "  </thead>\n",
       "  <tbody>\n",
       "    <tr>\n",
       "      <td>0</td>\n",
       "      <td>czi77n</td>\n",
       "      <td>1567586974</td>\n",
       "      <td>NaN</td>\n",
       "      <td>brooksy67</td>\n",
       "      <td>Whats the stupidest animal in the jungle?</td>\n",
       "      <td>A polar bear</td>\n",
       "      <td>1</td>\n",
       "      <td>0</td>\n",
       "    </tr>\n",
       "    <tr>\n",
       "      <td>1</td>\n",
       "      <td>czi2nb</td>\n",
       "      <td>1567585886</td>\n",
       "      <td>NaN</td>\n",
       "      <td>The_RockObama</td>\n",
       "      <td>I was teaching my 2 year old son how to drink ...</td>\n",
       "      <td>His mom walks in just to hear me say to him: '...</td>\n",
       "      <td>1</td>\n",
       "      <td>1</td>\n",
       "    </tr>\n",
       "    <tr>\n",
       "      <td>2</td>\n",
       "      <td>czi1pp</td>\n",
       "      <td>1567585656</td>\n",
       "      <td>NaN</td>\n",
       "      <td>wrongdotcom</td>\n",
       "      <td>Mate 1: I love my brown eyed girlfriend</td>\n",
       "      <td>Mate 2: But she has blue eyes\\n\\nMate 1: Exactly</td>\n",
       "      <td>1</td>\n",
       "      <td>0</td>\n",
       "    </tr>\n",
       "    <tr>\n",
       "      <td>3</td>\n",
       "      <td>czi0t7</td>\n",
       "      <td>1567585443</td>\n",
       "      <td>NaN</td>\n",
       "      <td>redhead_bandit</td>\n",
       "      <td>My mom doesnt want me to play videogames becau...</td>\n",
       "      <td>Well I don't believe her bullshit. I'm light b...</td>\n",
       "      <td>1</td>\n",
       "      <td>0</td>\n",
       "    </tr>\n",
       "    <tr>\n",
       "      <td>4</td>\n",
       "      <td>czi00y</td>\n",
       "      <td>1567585255</td>\n",
       "      <td>NaN</td>\n",
       "      <td>AlphaScar</td>\n",
       "      <td>I Went Traveling Recently...</td>\n",
       "      <td>...and was shocked to discover that in Aruba, ...</td>\n",
       "      <td>1</td>\n",
       "      <td>1</td>\n",
       "    </tr>\n",
       "  </tbody>\n",
       "</table>\n",
       "</div>"
      ],
      "text/plain": [
       "       id  createdUTC  parent_createdUTC          author  \\\n",
       "0  czi77n  1567586974                NaN       brooksy67   \n",
       "1  czi2nb  1567585886                NaN   The_RockObama   \n",
       "2  czi1pp  1567585656                NaN     wrongdotcom   \n",
       "3  czi0t7  1567585443                NaN  redhead_bandit   \n",
       "4  czi00y  1567585255                NaN       AlphaScar   \n",
       "\n",
       "                                               title  \\\n",
       "0          Whats the stupidest animal in the jungle?   \n",
       "1  I was teaching my 2 year old son how to drink ...   \n",
       "2            Mate 1: I love my brown eyed girlfriend   \n",
       "3  My mom doesnt want me to play videogames becau...   \n",
       "4                       I Went Traveling Recently...   \n",
       "\n",
       "                                            selftext  score  num_comments  \n",
       "0                                       A polar bear      1             0  \n",
       "1  His mom walks in just to hear me say to him: '...      1             1  \n",
       "2   Mate 2: But she has blue eyes\\n\\nMate 1: Exactly      1             0  \n",
       "3  Well I don't believe her bullshit. I'm light b...      1             0  \n",
       "4  ...and was shocked to discover that in Aruba, ...      1             1  "
      ]
     },
     "execution_count": 4,
     "metadata": {},
     "output_type": "execute_result"
    }
   ],
   "source": [
    "jokes.head()"
   ]
  },
  {
   "cell_type": "code",
   "execution_count": 5,
   "metadata": {},
   "outputs": [
    {
     "name": "stdout",
     "output_type": "stream",
     "text": [
      "id                        0\n",
      "createdUTC                0\n",
      "parent_createdUTC    159592\n",
      "author                14417\n",
      "title                     3\n",
      "selftext              14285\n",
      "score                     0\n",
      "num_comments              0\n",
      "dtype: int64\n",
      "id                        0\n",
      "createdUTC                0\n",
      "parent_createdUTC    989287\n",
      "author               168017\n",
      "title                    25\n",
      "selftext             112425\n",
      "score                     0\n",
      "num_comments              0\n",
      "dtype: int64\n"
     ]
    }
   ],
   "source": [
    "print(dj.isna().sum())\n",
    "print(jokes.isna().sum())"
   ]
  },
  {
   "cell_type": "code",
   "execution_count": 6,
   "metadata": {},
   "outputs": [
    {
     "name": "stdout",
     "output_type": "stream",
     "text": [
      "id                        0\n",
      "createdUTC                0\n",
      "parent_createdUTC    159592\n",
      "author                14417\n",
      "title                     0\n",
      "selftext                  0\n",
      "score                     0\n",
      "num_comments              0\n",
      "dtype: int64\n",
      "id                        0\n",
      "createdUTC                0\n",
      "parent_createdUTC    989287\n",
      "author               168017\n",
      "title                     0\n",
      "selftext                  0\n",
      "score                     0\n",
      "num_comments              0\n",
      "dtype: int64\n"
     ]
    }
   ],
   "source": [
    "def fill_na(df):\n",
    "    df.title.fillna('', inplace=True)\n",
    "    df.selftext.fillna('', inplace=True)\n",
    "    return df\n",
    "\n",
    "dj = fill_na(dj)\n",
    "jokes = fill_na(jokes)\n",
    "print(dj.isna().sum())\n",
    "print(jokes.isna().sum())"
   ]
  },
  {
   "cell_type": "code",
   "execution_count": 7,
   "metadata": {},
   "outputs": [
    {
     "data": {
      "image/png": "[encoded data removed]",
      "text/plain": [
       "<Figure size 432x288 with 1 Axes>"
      ]
     },
     "metadata": {
      "needs_background": "light"
     },
     "output_type": "display_data"
    },
    {
     "data": {
      "image/png": "[encoded data removed]",
      "text/plain": [
       "<Figure size 432x288 with 1 Axes>"
      ]
     },
     "metadata": {
      "needs_background": "light"
     },
     "output_type": "display_data"
    }
   ],
   "source": [
    "plt.scatter(dj.score, dj.num_comments);\n",
    "plt.xlabel('Score')\n",
    "plt.ylabel('Total Comments')\n",
    "plt.title('Score vs. Number of Comments on\\nSubmissions in /r/dadjokes')\n",
    "plt.show()\n",
    "\n",
    "plt.scatter(jokes.score, jokes.num_comments);\n",
    "plt.xlabel('Score')\n",
    "plt.ylabel('Total Comments')\n",
    "plt.title('Score vs. Number of Comments on\\nSubmissions in /r/jokes')\n",
    "plt.show()"
   ]
  },
  {
   "cell_type": "code",
   "execution_count": 8,
   "metadata": {},
   "outputs": [
    {
     "data": {
      "image/png": "[encoded data removed]",
      "text/plain": [
       "<Figure size 432x288 with 1 Axes>"
      ]
     },
     "metadata": {
      "needs_background": "light"
     },
     "output_type": "display_data"
    },
    {
     "data": {
      "image/png": "[encoded data removed]",
      "text/plain": [
       "<Figure size 432x288 with 1 Axes>"
      ]
     },
     "metadata": {
      "needs_background": "light"
     },
     "output_type": "display_data"
    }
   ],
   "source": [
    "plt.xscale('log')\n",
    "plt.yscale('log')\n",
    "plt.xlabel('Total Comments')\n",
    "plt.ylabel('Number of Submissions')\n",
    "plt.title('Submissions by Number of Comments\\nin /r/dadjokes')\n",
    "plt.hist(dj.num_comments, bins=[0,1,5,20,100,999999999]);\n",
    "plt.show()\n",
    "\n",
    "plt.xscale('log')\n",
    "plt.yscale('log')\n",
    "plt.xlabel('Total Comments')\n",
    "plt.ylabel('Number of Submissions')\n",
    "plt.title('Submissions by Number of Comments\\nin /r/jokes')\n",
    "plt.hist(jokes.num_comments, bins=[0,1,5,20,100,999999999]);\n",
    "plt.show()"
   ]
  },
  {
   "cell_type": "code",
   "execution_count": 9,
   "metadata": {},
   "outputs": [
    {
     "data": {
      "image/png": "[encoded data removed]",
      "text/plain": [
       "<Figure size 432x288 with 1 Axes>"
      ]
     },
     "metadata": {
      "needs_background": "light"
     },
     "output_type": "display_data"
    },
    {
     "data": {
      "image/png": "[encoded data removed]",
      "text/plain": [
       "<Figure size 432x288 with 1 Axes>"
      ]
     },
     "metadata": {
      "needs_background": "light"
     },
     "output_type": "display_data"
    }
   ],
   "source": [
    "plt.xscale('log')\n",
    "plt.yscale('log')\n",
    "plt.xlabel('Score')\n",
    "plt.ylabel('Number of Submissions')\n",
    "plt.title('Submissions by Score (Upvotes) in /r/dadjokes')\n",
    "plt.hist(dj.score, bins=[0,1,3,10,50,999999999]);\n",
    "plt.show()\n",
    "\n",
    "plt.xscale('log')\n",
    "plt.yscale('log')\n",
    "plt.xlabel('Score')\n",
    "plt.ylabel('Number of Submissions')\n",
    "plt.title('Submissions by Score (Upvotes) in /r/jokes')\n",
    "plt.hist(jokes.score, bins=[0,1,3,10,50,999999999]);\n",
    "plt.show()"
   ]
  },
  {
   "cell_type": "code",
   "execution_count": 10,
   "metadata": {},
   "outputs": [
    {
     "data": {
      "text/html": [
       "<div>\n",
       "<style scoped>\n",
       "    .dataframe tbody tr th:only-of-type {\n",
       "        vertical-align: middle;\n",
       "    }\n",
       "\n",
       "    .dataframe tbody tr th {\n",
       "        vertical-align: top;\n",
       "    }\n",
       "\n",
       "    .dataframe thead th {\n",
       "        text-align: right;\n",
       "    }\n",
       "</style>\n",
       "<table border=\"1\" class=\"dataframe\">\n",
       "  <thead>\n",
       "    <tr style=\"text-align: right;\">\n",
       "      <th></th>\n",
       "      <th>createdUTC</th>\n",
       "      <th>parent_createdUTC</th>\n",
       "      <th>score</th>\n",
       "      <th>num_comments</th>\n",
       "    </tr>\n",
       "    <tr>\n",
       "      <th>is_crosspost</th>\n",
       "      <th></th>\n",
       "      <th></th>\n",
       "      <th></th>\n",
       "      <th></th>\n",
       "    </tr>\n",
       "  </thead>\n",
       "  <tbody>\n",
       "    <tr>\n",
       "      <td>False</td>\n",
       "      <td>1.490987e+09</td>\n",
       "      <td>NaN</td>\n",
       "      <td>104.289937</td>\n",
       "      <td>5.887396</td>\n",
       "    </tr>\n",
       "    <tr>\n",
       "      <td>True</td>\n",
       "      <td>1.543290e+09</td>\n",
       "      <td>1.541537e+09</td>\n",
       "      <td>1.002805</td>\n",
       "      <td>0.042076</td>\n",
       "    </tr>\n",
       "  </tbody>\n",
       "</table>\n",
       "</div>"
      ],
      "text/plain": [
       "                createdUTC  parent_createdUTC       score  num_comments\n",
       "is_crosspost                                                           \n",
       "False         1.490987e+09                NaN  104.289937      5.887396\n",
       "True          1.543290e+09       1.541537e+09    1.002805      0.042076"
      ]
     },
     "execution_count": 10,
     "metadata": {},
     "output_type": "execute_result"
    }
   ],
   "source": [
    "jokes['is_crosspost'] = ~jokes['parent_createdUTC'].isna()\n",
    "jokes.groupby(by='is_crosspost').mean()    "
   ]
  },
  {
   "cell_type": "code",
   "execution_count": 11,
   "metadata": {},
   "outputs": [
    {
     "data": {
      "text/html": [
       "<div>\n",
       "<style scoped>\n",
       "    .dataframe tbody tr th:only-of-type {\n",
       "        vertical-align: middle;\n",
       "    }\n",
       "\n",
       "    .dataframe tbody tr th {\n",
       "        vertical-align: top;\n",
       "    }\n",
       "\n",
       "    .dataframe thead th {\n",
       "        text-align: right;\n",
       "    }\n",
       "</style>\n",
       "<table border=\"1\" class=\"dataframe\">\n",
       "  <thead>\n",
       "    <tr style=\"text-align: right;\">\n",
       "      <th></th>\n",
       "      <th>createdUTC</th>\n",
       "      <th>parent_createdUTC</th>\n",
       "      <th>score</th>\n",
       "      <th>num_comments</th>\n",
       "    </tr>\n",
       "    <tr>\n",
       "      <th>is_crosspost</th>\n",
       "      <th></th>\n",
       "      <th></th>\n",
       "      <th></th>\n",
       "      <th></th>\n",
       "    </tr>\n",
       "  </thead>\n",
       "  <tbody>\n",
       "    <tr>\n",
       "      <td>False</td>\n",
       "      <td>1.494472e+09</td>\n",
       "      <td>NaN</td>\n",
       "      <td>91.791305</td>\n",
       "      <td>3.317967</td>\n",
       "    </tr>\n",
       "    <tr>\n",
       "      <td>True</td>\n",
       "      <td>1.544440e+09</td>\n",
       "      <td>1.543943e+09</td>\n",
       "      <td>2.568659</td>\n",
       "      <td>0.348950</td>\n",
       "    </tr>\n",
       "  </tbody>\n",
       "</table>\n",
       "</div>"
      ],
      "text/plain": [
       "                createdUTC  parent_createdUTC      score  num_comments\n",
       "is_crosspost                                                          \n",
       "False         1.494472e+09                NaN  91.791305      3.317967\n",
       "True          1.544440e+09       1.543943e+09   2.568659      0.348950"
      ]
     },
     "execution_count": 11,
     "metadata": {},
     "output_type": "execute_result"
    }
   ],
   "source": [
    "dj['is_crosspost'] = ~dj['parent_createdUTC'].isna()\n",
    "dj.groupby(by='is_crosspost').mean()    "
   ]
  },
  {
   "cell_type": "markdown",
   "metadata": {},
   "source": [
    "##### Crossposts receive significantly lower scores, num_comments than original posts in the dadjokes subreddit. This may be because viewers are easily redirected to the parent post to comments or upvote in other areas of reddit. However, the contents of the crossposted jokes (title and selftext) are pulled from the parent posts. Therefore crossposts will be analyzed separately when attempting to predict scores, num_comments."
   ]
  },
  {
   "cell_type": "code",
   "execution_count": 12,
   "metadata": {},
   "outputs": [
    {
     "name": "stdout",
     "output_type": "stream",
     "text": [
      "(159592, 7)\n",
      "(989287, 7)\n"
     ]
    }
   ],
   "source": [
    "main_dj = dj[~dj.is_crosspost].drop(columns=['parent_createdUTC', 'is_crosspost'])\n",
    "print(main_dj.shape)\n",
    "\n",
    "main_jokes = jokes[~jokes.is_crosspost].drop(columns=['parent_createdUTC', 'is_crosspost'])\n",
    "print(main_jokes.shape)"
   ]
  },
  {
   "cell_type": "code",
   "execution_count": 13,
   "metadata": {},
   "outputs": [
    {
     "name": "stdout",
     "output_type": "stream",
     "text": [
      "Training sample size: 127673\n",
      "Testing sample size: 31919\n",
      "Training sample size: 791429\n",
      "Testing sample size: 197858\n"
     ]
    }
   ],
   "source": [
    "train_dj, test_dj = train_test_split(main_dj, test_size=0.2, random_state=42)\n",
    "print(f\"Training sample size: {len(train_dj)}\\nTesting sample size: {len(test_dj)}\")\n",
    "\n",
    "train_jokes, test_jokes = train_test_split(main_jokes, test_size=0.2, random_state=42)\n",
    "print(f\"Training sample size: {len(train_jokes)}\\nTesting sample size: {len(test_jokes)}\")"
   ]
  },
  {
   "cell_type": "code",
   "execution_count": 19,
   "metadata": {},
   "outputs": [
    {
     "data": {
      "text/plain": [
       "array(['1yhk2g', 'When dad goes to work', nan,\n",
       "       \"Dad: 'Okay, I'm off to work.'\\\\n\\\\nMe: 'See you, dad.'\\\\n\\\\nDad: 'Why are you saying *city* in Spanish?' (*Ciudad*)\\\\n\"],\n",
       "      dtype=object)"
      ]
     },
     "execution_count": 19,
     "metadata": {},
     "output_type": "execute_result"
    }
   ],
   "source": [
    "train_dj[['id', 'title', 'author', 'selftext']].values[10]"
   ]
  },
  {
   "cell_type": "code",
   "execution_count": 14,
   "metadata": {},
   "outputs": [],
   "source": [
    "score_cats = {'score_dud': 0, 'score_one': 1, 'score_meh': 5, 'score_ave': 20,\n",
    "              'score_great': 100, 'score_hero': 99999999}\n",
    "comment_cats = {'comments_dud': 0, 'comments_one': 1, 'comments_some': 3,\n",
    "                'comments_ave': 10, 'comments_convo': 50, 'comments_rave': 99999999}\n",
    "\n",
    "def _categories(data, col, cats):\n",
    "    recorded = data[col] < 0\n",
    "    for level, upper_bound in cats.items():\n",
    "        below = data[col] <= upper_bound\n",
    "        data[level] = pd.Series(map(xor, below, recorded), dtype=int, name=level)\n",
    "        recorded = list(map(or_, below, recorded))\n",
    "    return data\n",
    "\n",
    "\n",
    "def make_categories(data):\n",
    "    data = _categories(data, 'score', score_cats)\n",
    "    data = _categories(data, 'num_comments', comment_cats)\n",
    "    return data\n",
    "\n",
    "\n",
    "newlines = re.compile(r'(\\\\n)+')\n",
    "def _gettext(s):\n",
    "    s = s.replace('&amp;#x200B;', '')\n",
    "    s = newlines.sub(' ', s)\n",
    "    return s\n",
    "\n",
    "\n",
    "def prepare_text(data):\n",
    "    data['title_clean'] = data.title.apply(_gettext)\n",
    "    data['selftext_clean'] = data.selftext.apply(_gettext)\n",
    "    return data\n"
   ]
  },
  {
   "cell_type": "code",
   "execution_count": 33,
   "metadata": {
    "scrolled": true
   },
   "outputs": [
    {
     "name": "stderr",
     "output_type": "stream",
     "text": [
      "/anaconda3/lib/python3.6/site-packages/ipykernel_launcher.py:10: SettingWithCopyWarning: \n",
      "A value is trying to be set on a copy of a slice from a DataFrame.\n",
      "Try using .loc[row_indexer,col_indexer] = value instead\n",
      "\n",
      "See the caveats in the documentation: http://pandas.pydata.org/pandas-docs/stable/user_guide/indexing.html#returning-a-view-versus-a-copy\n",
      "  # Remove the CWD from sys.path while we load stuff.\n",
      "/anaconda3/lib/python3.6/site-packages/ipykernel_launcher.py:29: SettingWithCopyWarning: \n",
      "A value is trying to be set on a copy of a slice from a DataFrame.\n",
      "Try using .loc[row_indexer,col_indexer] = value instead\n",
      "\n",
      "See the caveats in the documentation: http://pandas.pydata.org/pandas-docs/stable/user_guide/indexing.html#returning-a-view-versus-a-copy\n",
      "/anaconda3/lib/python3.6/site-packages/ipykernel_launcher.py:30: SettingWithCopyWarning: \n",
      "A value is trying to be set on a copy of a slice from a DataFrame.\n",
      "Try using .loc[row_indexer,col_indexer] = value instead\n",
      "\n",
      "See the caveats in the documentation: http://pandas.pydata.org/pandas-docs/stable/user_guide/indexing.html#returning-a-view-versus-a-copy\n"
     ]
    },
    {
     "data": {
      "text/html": [
       "<div>\n",
       "<style scoped>\n",
       "    .dataframe tbody tr th:only-of-type {\n",
       "        vertical-align: middle;\n",
       "    }\n",
       "\n",
       "    .dataframe tbody tr th {\n",
       "        vertical-align: top;\n",
       "    }\n",
       "\n",
       "    .dataframe thead th {\n",
       "        text-align: right;\n",
       "    }\n",
       "</style>\n",
       "<table border=\"1\" class=\"dataframe\">\n",
       "  <thead>\n",
       "    <tr style=\"text-align: right;\">\n",
       "      <th></th>\n",
       "      <th>id</th>\n",
       "      <th>createdUTC</th>\n",
       "      <th>author</th>\n",
       "      <th>title</th>\n",
       "      <th>selftext</th>\n",
       "      <th>score</th>\n",
       "      <th>num_comments</th>\n",
       "      <th>score_dud</th>\n",
       "      <th>score_one</th>\n",
       "      <th>score_meh</th>\n",
       "      <th>...</th>\n",
       "      <th>score_great</th>\n",
       "      <th>score_hero</th>\n",
       "      <th>comments_dud</th>\n",
       "      <th>comments_one</th>\n",
       "      <th>comments_some</th>\n",
       "      <th>comments_ave</th>\n",
       "      <th>comments_convo</th>\n",
       "      <th>comments_rave</th>\n",
       "      <th>title_clean</th>\n",
       "      <th>selftext_clean</th>\n",
       "    </tr>\n",
       "  </thead>\n",
       "  <tbody>\n",
       "    <tr>\n",
       "      <td>0</td>\n",
       "      <td>2l2vef</td>\n",
       "      <td>1414950128</td>\n",
       "      <td>broccolibush42</td>\n",
       "      <td>My dad posted this picture on Facebook. He jus...</td>\n",
       "      <td>http://imgur.com/9M4dGnO\\n\\nMy dad is notoriou...</td>\n",
       "      <td>1342</td>\n",
       "      <td>41</td>\n",
       "      <td>0</td>\n",
       "      <td>0</td>\n",
       "      <td>0</td>\n",
       "      <td>...</td>\n",
       "      <td>0</td>\n",
       "      <td>1</td>\n",
       "      <td>0</td>\n",
       "      <td>0</td>\n",
       "      <td>0</td>\n",
       "      <td>0</td>\n",
       "      <td>1</td>\n",
       "      <td>0</td>\n",
       "      <td>My dad posted this picture on Facebook. He jus...</td>\n",
       "      <td>http://imgur.com/9M4dGnO My dad is notoriously...</td>\n",
       "    </tr>\n",
       "    <tr>\n",
       "      <td>1</td>\n",
       "      <td>2gtab2</td>\n",
       "      <td>1411085179</td>\n",
       "      <td>FlawlessBacon</td>\n",
       "      <td>So my dad out-dadjoked me today...</td>\n",
       "      <td>I was having dinner with my family when I reme...</td>\n",
       "      <td>6</td>\n",
       "      <td>0</td>\n",
       "      <td>0</td>\n",
       "      <td>0</td>\n",
       "      <td>0</td>\n",
       "      <td>...</td>\n",
       "      <td>0</td>\n",
       "      <td>0</td>\n",
       "      <td>1</td>\n",
       "      <td>0</td>\n",
       "      <td>0</td>\n",
       "      <td>0</td>\n",
       "      <td>0</td>\n",
       "      <td>0</td>\n",
       "      <td>So my dad out-dadjoked me today...</td>\n",
       "      <td>I was having dinner with my family when I reme...</td>\n",
       "    </tr>\n",
       "    <tr>\n",
       "      <td>2</td>\n",
       "      <td>7zmvtz</td>\n",
       "      <td>1519378372</td>\n",
       "      <td>NaN</td>\n",
       "      <td>Why did the baker have brown hands?</td>\n",
       "      <td></td>\n",
       "      <td>1</td>\n",
       "      <td>0</td>\n",
       "      <td>0</td>\n",
       "      <td>1</td>\n",
       "      <td>0</td>\n",
       "      <td>...</td>\n",
       "      <td>0</td>\n",
       "      <td>0</td>\n",
       "      <td>1</td>\n",
       "      <td>0</td>\n",
       "      <td>0</td>\n",
       "      <td>0</td>\n",
       "      <td>0</td>\n",
       "      <td>0</td>\n",
       "      <td>Why did the baker have brown hands?</td>\n",
       "      <td></td>\n",
       "    </tr>\n",
       "    <tr>\n",
       "      <td>3</td>\n",
       "      <td>ae0qnm</td>\n",
       "      <td>1546992196</td>\n",
       "      <td>Noeltm</td>\n",
       "      <td>What do you call it when canon ammunition cons...</td>\n",
       "      <td>Canonbalism</td>\n",
       "      <td>1</td>\n",
       "      <td>2</td>\n",
       "      <td>0</td>\n",
       "      <td>1</td>\n",
       "      <td>0</td>\n",
       "      <td>...</td>\n",
       "      <td>0</td>\n",
       "      <td>0</td>\n",
       "      <td>0</td>\n",
       "      <td>0</td>\n",
       "      <td>1</td>\n",
       "      <td>0</td>\n",
       "      <td>0</td>\n",
       "      <td>0</td>\n",
       "      <td>What do you call it when canon ammunition cons...</td>\n",
       "      <td>Canonbalism</td>\n",
       "    </tr>\n",
       "    <tr>\n",
       "      <td>4</td>\n",
       "      <td>72gkpd</td>\n",
       "      <td>1506384117</td>\n",
       "      <td>ZeLittleMan</td>\n",
       "      <td>I started getting death threats after wearing ...</td>\n",
       "      <td>Apparently there's a Bounty on my head</td>\n",
       "      <td>746</td>\n",
       "      <td>12</td>\n",
       "      <td>0</td>\n",
       "      <td>0</td>\n",
       "      <td>0</td>\n",
       "      <td>...</td>\n",
       "      <td>0</td>\n",
       "      <td>1</td>\n",
       "      <td>0</td>\n",
       "      <td>0</td>\n",
       "      <td>0</td>\n",
       "      <td>0</td>\n",
       "      <td>1</td>\n",
       "      <td>0</td>\n",
       "      <td>I started getting death threats after wearing ...</td>\n",
       "      <td>Apparently there's a Bounty on my head</td>\n",
       "    </tr>\n",
       "  </tbody>\n",
       "</table>\n",
       "<p>5 rows × 21 columns</p>\n",
       "</div>"
      ],
      "text/plain": [
       "       id  createdUTC          author  \\\n",
       "0  2l2vef  1414950128  broccolibush42   \n",
       "1  2gtab2  1411085179   FlawlessBacon   \n",
       "2  7zmvtz  1519378372             NaN   \n",
       "3  ae0qnm  1546992196          Noeltm   \n",
       "4  72gkpd  1506384117     ZeLittleMan   \n",
       "\n",
       "                                               title  \\\n",
       "0  My dad posted this picture on Facebook. He jus...   \n",
       "1                 So my dad out-dadjoked me today...   \n",
       "2                Why did the baker have brown hands?   \n",
       "3  What do you call it when canon ammunition cons...   \n",
       "4  I started getting death threats after wearing ...   \n",
       "\n",
       "                                            selftext  score  num_comments  \\\n",
       "0  http://imgur.com/9M4dGnO\\n\\nMy dad is notoriou...   1342            41   \n",
       "1  I was having dinner with my family when I reme...      6             0   \n",
       "2                                                         1             0   \n",
       "3                                        Canonbalism      1             2   \n",
       "4             Apparently there's a Bounty on my head    746            12   \n",
       "\n",
       "   score_dud  score_one  score_meh  ...  score_great  score_hero  \\\n",
       "0          0          0          0  ...            0           1   \n",
       "1          0          0          0  ...            0           0   \n",
       "2          0          1          0  ...            0           0   \n",
       "3          0          1          0  ...            0           0   \n",
       "4          0          0          0  ...            0           1   \n",
       "\n",
       "   comments_dud  comments_one  comments_some  comments_ave  comments_convo  \\\n",
       "0             0             0              0             0               1   \n",
       "1             1             0              0             0               0   \n",
       "2             1             0              0             0               0   \n",
       "3             0             0              1             0               0   \n",
       "4             0             0              0             0               1   \n",
       "\n",
       "   comments_rave                                        title_clean  \\\n",
       "0              0  My dad posted this picture on Facebook. He jus...   \n",
       "1              0                 So my dad out-dadjoked me today...   \n",
       "2              0                Why did the baker have brown hands?   \n",
       "3              0  What do you call it when canon ammunition cons...   \n",
       "4              0  I started getting death threats after wearing ...   \n",
       "\n",
       "                                      selftext_clean  \n",
       "0  http://imgur.com/9M4dGnO My dad is notoriously...  \n",
       "1  I was having dinner with my family when I reme...  \n",
       "2                                                     \n",
       "3                                        Canonbalism  \n",
       "4             Apparently there's a Bounty on my head  \n",
       "\n",
       "[5 rows x 21 columns]"
      ]
     },
     "execution_count": 33,
     "metadata": {},
     "output_type": "execute_result"
    }
   ],
   "source": [
    "train_dj.reset_index(drop=True, inplace=True)\n",
    "train_dj = make_categories(train_dj)\n",
    "train_dj = prepare_text(train_dj)\n",
    "train_dj.head()"
   ]
  },
  {
   "cell_type": "code",
   "execution_count": null,
   "metadata": {},
   "outputs": [],
   "source": [
    "def vectorize_jokes(data):\n",
    "    data['title_vec'] = list(nlp.pipe(data.title_clean))\n",
    "    data['selftext_vec'] = list(nlp.pipe(data.selftext_clean))\n",
    "    return data"
   ]
  },
  {
   "cell_type": "code",
   "execution_count": 34,
   "metadata": {},
   "outputs": [],
   "source": [
    "small = train_dj[:100]\n",
    "sample = small.apply(lambda row: (row['title_clean']+' '+row['selftext_clean'],\n",
    "                                  {\"cats\": row[list(score_cats.keys())].to_dict()}), axis=1)\n",
    "TRAIN_DATA = sample.to_list()"
   ]
  },
  {
   "cell_type": "code",
   "execution_count": null,
   "metadata": {},
   "outputs": [],
   "source": [
    "textcat = nlp.create_pipe(\"pytt_textcat\", config={\"exclusive_classes\": True, 'width':1000})\n",
    "for label in score_cats.keys():\n",
    "    textcat.add_label(label)\n",
    "nlp.add_pipe(textcat)\n"
   ]
  },
  {
   "cell_type": "code",
   "execution_count": null,
   "metadata": {},
   "outputs": [],
   "source": [
    "print(nlp.pipe_names)"
   ]
  },
  {
   "cell_type": "code",
   "execution_count": null,
   "metadata": {},
   "outputs": [],
   "source": [
    "optimizer = nlp.resume_training()\n",
    "for i in range(10):\n",
    "    random.shuffle(TRAIN_DATA)\n",
    "    losses = {}\n",
    "    for batch in minibatch(TRAIN_DATA, size=5):\n",
    "        texts, cats = zip(*batch)\n",
    "        nlp.update(texts, cats, sgd=optimizer, losses=losses)\n",
    "    print(i, losses)\n",
    "nlp.to_disk(\"/roberta-textcat\")"
   ]
  },
  {
   "cell_type": "code",
   "execution_count": 38,
   "metadata": {},
   "outputs": [],
   "source": [
    "r = 'sample = pd'"
   ]
  },
  {
   "cell_type": "code",
   "execution_count": 39,
   "metadata": {},
   "outputs": [
    {
     "data": {
      "text/plain": [
       "'st = pd'"
      ]
     },
     "execution_count": 39,
     "metadata": {},
     "output_type": "execute_result"
    }
   ],
   "source": [
    "r.replace('ample', 't')"
   ]
  },
  {
   "cell_type": "code",
   "execution_count": 47,
   "metadata": {},
   "outputs": [],
   "source": [
    "if None:\n",
    "    print('s')"
   ]
  },
  {
   "cell_type": "code",
   "execution_count": 46,
   "metadata": {},
   "outputs": [
    {
     "ename": "TypeError",
     "evalue": "'NoneType' object is not subscriptable",
     "output_type": "error",
     "traceback": [
      "\u001b[0;31m---------------------------------------------------------------------------\u001b[0m",
      "\u001b[0;31mTypeError\u001b[0m                                 Traceback (most recent call last)",
      "\u001b[0;32m<ipython-input-46-98c6d61fc190>\u001b[0m in \u001b[0;36m<module>\u001b[0;34m\u001b[0m\n\u001b[0;32m----> 1\u001b[0;31m \u001b[0ml\u001b[0m\u001b[0;34m[\u001b[0m\u001b[0;36m0\u001b[0m\u001b[0;34m]\u001b[0m\u001b[0;34m\u001b[0m\u001b[0;34m\u001b[0m\u001b[0m\n\u001b[0m",
      "\u001b[0;31mTypeError\u001b[0m: 'NoneType' object is not subscriptable"
     ]
    }
   ],
   "source": [
    "l[0]"
   ]
  },
  {
   "cell_type": "code",
   "execution_count": 29,
   "metadata": {},
   "outputs": [],
   "source": [
    "q = (1,2,3,4,None)"
   ]
  },
  {
   "cell_type": "code",
   "execution_count": 31,
   "metadata": {},
   "outputs": [
    {
     "data": {
      "text/plain": [
       "True"
      ]
     },
     "execution_count": 31,
     "metadata": {},
     "output_type": "execute_result"
    }
   ],
   "source": [
    "z==list(q)"
   ]
  },
  {
   "cell_type": "code",
   "execution_count": null,
   "metadata": {},
   "outputs": [],
   "source": []
  }
 ],
 "metadata": {
  "kernelspec": {
   "display_name": "Python 3",
   "language": "python",
   "name": "python3"
  },
  "language_info": {
   "codemirror_mode": {
    "name": "ipython",
    "version": 3
   },
   "file_extension": ".py",
   "mimetype": "text/x-python",
   "name": "python",
   "nbconvert_exporter": "python",
   "pygments_lexer": "ipython3",
   "version": "3.6.8"
  }
 },
 "nbformat": 4,
 "nbformat_minor": 4
}
