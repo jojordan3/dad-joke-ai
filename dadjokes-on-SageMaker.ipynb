{
 "cells": [
  {
   "cell_type": "code",
   "execution_count": null,
   "metadata": {},
   "outputs": [],
   "source": [
    "#!pip install pytorch-transformers"
   ]
  },
  {
   "cell_type": "code",
   "execution_count": 5,
   "metadata": {},
   "outputs": [],
   "source": [
    "import numpy as np\n",
    "import pandas as pd\n",
    "import matplotlib.pyplot as plt\n",
    "import spacy\n",
    "import torch\n",
    "import os\n",
    "import json\n",
    "import re\n",
    "\n",
    "from sklearn.model_selection import train_test_split \n",
    "from datetime import datetime as dt\n",
    "from dateutil import tz"
   ]
  },
  {
   "cell_type": "code",
   "execution_count": 6,
   "metadata": {},
   "outputs": [
    {
     "name": "stderr",
     "output_type": "stream",
     "text": [
      "Downloading: \"https://github.com/pytorch/fairseq/archive/master.zip\" to /home/ec2-user/.cache/torch/hub/master.zip\n",
      "100%|██████████| 655283069/655283069 [00:12<00:00, 53639557.79B/s]\n"
     ]
    },
    {
     "name": "stdout",
     "output_type": "stream",
     "text": [
      "loading archive file http://dl.fbaipublicfiles.com/fairseq/models/roberta.large.tar.gz from cache at /home/ec2-user/.cache/torch/pytorch_fairseq/83e3a689e28e5e4696ecb0bbb05a77355444a5c8a3437e0f736d8a564e80035e.c687083d14776c1979f3f71654febb42f2bb3d9a94ff7ebdfe1ac6748dba89d2\n",
      "extracting archive file /home/ec2-user/.cache/torch/pytorch_fairseq/83e3a689e28e5e4696ecb0bbb05a77355444a5c8a3437e0f736d8a564e80035e.c687083d14776c1979f3f71654febb42f2bb3d9a94ff7ebdfe1ac6748dba89d2 to temp dir /tmp/tmpck7r99uf\n",
      "| dictionary: 50264 types\n"
     ]
    },
    {
     "name": "stderr",
     "output_type": "stream",
     "text": [
      "1042301B [00:00, 3840352.97B/s]\n",
      "456318B [00:00, 8968984.34B/s]\n"
     ]
    }
   ],
   "source": [
    "@inproceedings{ott2019fairseq,\n",
    "  title = {fairseq: A Fast, Extensible Toolkit for Sequence Modeling},\n",
    "  author = {Myle Ott and Sergey Edunov and Alexei Baevski and Angela Fan and Sam Gross and Nathan Ng and David Grangier and Michael Auli},\n",
    "  booktitle = {Proceedings of NAACL-HLT 2019: Demonstrations},\n",
    "  year = {2019},\n",
    "}\n",
    "\n",
    "\n",
    "roberta = torch.hub.load('pytorch/fairseq', 'roberta.large', force_reload=True, pretrained=True)"
   ]
  },
  {
   "cell_type": "code",
   "execution_count": 9,
   "metadata": {},
   "outputs": [
    {
     "data": {
      "text/html": [
       "<div>\n",
       "<style scoped>\n",
       "    .dataframe tbody tr th:only-of-type {\n",
       "        vertical-align: middle;\n",
       "    }\n",
       "\n",
       "    .dataframe tbody tr th {\n",
       "        vertical-align: top;\n",
       "    }\n",
       "\n",
       "    .dataframe thead th {\n",
       "        text-align: right;\n",
       "    }\n",
       "</style>\n",
       "<table border=\"1\" class=\"dataframe\">\n",
       "  <thead>\n",
       "    <tr style=\"text-align: right;\">\n",
       "      <th></th>\n",
       "      <th>createdUTC</th>\n",
       "      <th>parent_createdUTC</th>\n",
       "      <th>author</th>\n",
       "      <th>title</th>\n",
       "      <th>selftext</th>\n",
       "      <th>score</th>\n",
       "      <th>num_comments</th>\n",
       "    </tr>\n",
       "    <tr>\n",
       "      <th>id</th>\n",
       "      <th></th>\n",
       "      <th></th>\n",
       "      <th></th>\n",
       "      <th></th>\n",
       "      <th></th>\n",
       "      <th></th>\n",
       "      <th></th>\n",
       "    </tr>\n",
       "  </thead>\n",
       "  <tbody>\n",
       "    <tr>\n",
       "      <th>cwyfb2</th>\n",
       "      <td>1567070342</td>\n",
       "      <td>NaN</td>\n",
       "      <td>Adamwithan0</td>\n",
       "      <td>At first I really didn’t like my new haircut</td>\n",
       "      <td>But then it grew on me</td>\n",
       "      <td>1</td>\n",
       "      <td>0</td>\n",
       "    </tr>\n",
       "    <tr>\n",
       "      <th>cwyed7</th>\n",
       "      <td>1567070155</td>\n",
       "      <td>NaN</td>\n",
       "      <td>Lewwap</td>\n",
       "      <td>My girlfriend just couldn’t accept my obsessio...</td>\n",
       "      <td>In the end it Taurus apart</td>\n",
       "      <td>1</td>\n",
       "      <td>0</td>\n",
       "    </tr>\n",
       "    <tr>\n",
       "      <th>cwyaa7</th>\n",
       "      <td>1567069340</td>\n",
       "      <td>NaN</td>\n",
       "      <td>AffeKaffe</td>\n",
       "      <td>How do you become good at ping pong?</td>\n",
       "      <td>Just become Ching Chong</td>\n",
       "      <td>1</td>\n",
       "      <td>1</td>\n",
       "    </tr>\n",
       "    <tr>\n",
       "      <th>cwy7w4</th>\n",
       "      <td>1567068844</td>\n",
       "      <td>NaN</td>\n",
       "      <td>s0apyjam</td>\n",
       "      <td>Time for Golf Puns!</td>\n",
       "      <td>But whatever fore?  \\n\\n\\nA little birdie tol...</td>\n",
       "      <td>1</td>\n",
       "      <td>2</td>\n",
       "    </tr>\n",
       "    <tr>\n",
       "      <th>cwy5kt</th>\n",
       "      <td>1567068337</td>\n",
       "      <td>NaN</td>\n",
       "      <td>govuxyz</td>\n",
       "      <td>What do you call a place where everyone's laug...</td>\n",
       "      <td>Lol Lol Land</td>\n",
       "      <td>1</td>\n",
       "      <td>1</td>\n",
       "    </tr>\n",
       "  </tbody>\n",
       "</table>\n",
       "</div>"
      ],
      "text/plain": [
       "        createdUTC  parent_createdUTC       author  \\\n",
       "id                                                   \n",
       "cwyfb2  1567070342                NaN  Adamwithan0   \n",
       "cwyed7  1567070155                NaN       Lewwap   \n",
       "cwyaa7  1567069340                NaN    AffeKaffe   \n",
       "cwy7w4  1567068844                NaN     s0apyjam   \n",
       "cwy5kt  1567068337                NaN      govuxyz   \n",
       "\n",
       "                                                    title  \\\n",
       "id                                                          \n",
       "cwyfb2       At first I really didn’t like my new haircut   \n",
       "cwyed7  My girlfriend just couldn’t accept my obsessio...   \n",
       "cwyaa7               How do you become good at ping pong?   \n",
       "cwy7w4                                Time for Golf Puns!   \n",
       "cwy5kt  What do you call a place where everyone's laug...   \n",
       "\n",
       "                                                 selftext  score  num_comments  \n",
       "id                                                                              \n",
       "cwyfb2                             But then it grew on me      1             0  \n",
       "cwyed7                         In the end it Taurus apart      1             0  \n",
       "cwyaa7                            Just become Ching Chong      1             1  \n",
       "cwy7w4   But whatever fore?  \\n\\n\\nA little birdie tol...      1             2  \n",
       "cwy5kt                                       Lol Lol Land      1             1  "
      ]
     },
     "execution_count": 9,
     "metadata": {},
     "output_type": "execute_result"
    }
   ],
   "source": [
    "csv_path = 'https://sagemaker-dadjokes.s3-us-west-2.amazonaws.com/dadjokes/data_redditdadjokes.csv'\n",
    "\n",
    "dj = pd.read_csv(csv_path, na_values=[\"[deleted]\", \"\",'N/A'], index_col=0, sep='|')\n",
    "dj.head()"
   ]
  },
  {
   "cell_type": "code",
   "execution_count": 19,
   "metadata": {},
   "outputs": [
    {
     "data": {
      "text/plain": [
       "createdUTC                0\n",
       "parent_createdUTC    158600\n",
       "author                14417\n",
       "title                     3\n",
       "selftext              14225\n",
       "score                     0\n",
       "num_comments              0\n",
       "is_crosspost              0\n",
       "dtype: int64"
      ]
     },
     "execution_count": 19,
     "metadata": {},
     "output_type": "execute_result"
    }
   ],
   "source": [
    "dj.isna().sum()"
   ]
  },
  {
   "cell_type": "code",
   "execution_count": 22,
   "metadata": {},
   "outputs": [
    {
     "data": {
      "text/plain": [
       "createdUTC                0\n",
       "parent_createdUTC    158600\n",
       "author                14417\n",
       "title                     0\n",
       "selftext                  0\n",
       "score                     0\n",
       "num_comments              0\n",
       "is_crosspost              0\n",
       "dtype: int64"
      ]
     },
     "execution_count": 22,
     "metadata": {},
     "output_type": "execute_result"
    }
   ],
   "source": [
    "def fill_na(df):\n",
    "    df.title.fillna('', inplace=True)\n",
    "    df.selftext.fillna('', inplace=True)\n",
    "    return df\n",
    "\n",
    "dj = fill_na(dj)\n",
    "dj.isna().sum()"
   ]
  },
  {
   "cell_type": "code",
   "execution_count": 12,
   "metadata": {},
   "outputs": [
    {
     "data": {
      "image/png": "[encoded data removed]",
      "text/plain": [
       "<Figure size 432x288 with 1 Axes>"
      ]
     },
     "metadata": {},
     "output_type": "display_data"
    }
   ],
   "source": [
    "plt.scatter(dj.score, dj.num_comments);\n",
    "plt.xlabel('Score')\n",
    "plt.ylabel('Total Comments')\n",
    "plt.title('Score vs. Number of Comments on\\nSubmissions in /r/dadjokes')\n",
    "plt.show()"
   ]
  },
  {
   "cell_type": "code",
   "execution_count": 13,
   "metadata": {},
   "outputs": [
    {
     "data": {
      "image/png": "[encoded data removed]",
      "text/plain": [
       "<Figure size 432x288 with 1 Axes>"
      ]
     },
     "metadata": {},
     "output_type": "display_data"
    }
   ],
   "source": [
    "plt.xscale('log')\n",
    "plt.yscale('log')\n",
    "plt.xlabel('Total Comments')\n",
    "plt.ylabel('Number of Submissions')\n",
    "plt.title('Submissions by Number of Comments')\n",
    "plt.hist(dj.num_comments, bins=[0,1,5,20,50,100,500,1500]);\n",
    "plt.show()"
   ]
  },
  {
   "cell_type": "code",
   "execution_count": 14,
   "metadata": {},
   "outputs": [
    {
     "data": {
      "image/png": "[encoded data removed]",
      "text/plain": [
       "<Figure size 432x288 with 1 Axes>"
      ]
     },
     "metadata": {},
     "output_type": "display_data"
    }
   ],
   "source": [
    "plt.xscale('log')\n",
    "plt.yscale('log')\n",
    "plt.xlabel('Score')\n",
    "plt.ylabel('Number of Submissions')\n",
    "plt.title('Submissions by Score (Upvotes)')\n",
    "plt.hist(dj.score, bins=[0,1,5,20,50,100,500,40000]);\n",
    "plt.show()"
   ]
  },
  {
   "cell_type": "code",
   "execution_count": 15,
   "metadata": {},
   "outputs": [
    {
     "data": {
      "text/html": [
       "<div>\n",
       "<style scoped>\n",
       "    .dataframe tbody tr th:only-of-type {\n",
       "        vertical-align: middle;\n",
       "    }\n",
       "\n",
       "    .dataframe tbody tr th {\n",
       "        vertical-align: top;\n",
       "    }\n",
       "\n",
       "    .dataframe thead th {\n",
       "        text-align: right;\n",
       "    }\n",
       "</style>\n",
       "<table border=\"1\" class=\"dataframe\">\n",
       "  <thead>\n",
       "    <tr style=\"text-align: right;\">\n",
       "      <th></th>\n",
       "      <th>createdUTC</th>\n",
       "      <th>parent_createdUTC</th>\n",
       "      <th>score</th>\n",
       "      <th>num_comments</th>\n",
       "    </tr>\n",
       "    <tr>\n",
       "      <th>is_crosspost</th>\n",
       "      <th></th>\n",
       "      <th></th>\n",
       "      <th></th>\n",
       "      <th></th>\n",
       "    </tr>\n",
       "  </thead>\n",
       "  <tbody>\n",
       "    <tr>\n",
       "      <th>False</th>\n",
       "      <td>1.494017e+09</td>\n",
       "      <td>NaN</td>\n",
       "      <td>91.560485</td>\n",
       "      <td>3.317579</td>\n",
       "    </tr>\n",
       "    <tr>\n",
       "      <th>True</th>\n",
       "      <td>1.544253e+09</td>\n",
       "      <td>1.543761e+09</td>\n",
       "      <td>2.565147</td>\n",
       "      <td>0.350163</td>\n",
       "    </tr>\n",
       "  </tbody>\n",
       "</table>\n",
       "</div>"
      ],
      "text/plain": [
       "                createdUTC  parent_createdUTC      score  num_comments\n",
       "is_crosspost                                                          \n",
       "False         1.494017e+09                NaN  91.560485      3.317579\n",
       "True          1.544253e+09       1.543761e+09   2.565147      0.350163"
      ]
     },
     "execution_count": 15,
     "metadata": {},
     "output_type": "execute_result"
    }
   ],
   "source": [
    "dj['is_crosspost'] = ~dj['parent_createdUTC'].isna()\n",
    "dj.groupby(by='is_crosspost').mean()    "
   ]
  },
  {
   "cell_type": "markdown",
   "metadata": {},
   "source": [
    "##### Crossposts receive significantly lower scores, num_comments than original posts in the dadjokes subreddit. This may be because viewers are easily redirected to the parent post to comments or upvote in other areas of reddit. However, the contents of the crossposted jokes (title and selftext) are pulled from the parent posts. Therefore crossposts will be analyzed separately when attempting to predict scores, num_comments."
   ]
  },
  {
   "cell_type": "code",
   "execution_count": 23,
   "metadata": {},
   "outputs": [
    {
     "data": {
      "text/plain": [
       "(158600, 6)"
      ]
     },
     "execution_count": 23,
     "metadata": {},
     "output_type": "execute_result"
    }
   ],
   "source": [
    "main = dj[~dj.is_crosspost].drop(columns=['parent_createdUTC', 'is_crosspost'])\n",
    "main.shape"
   ]
  },
  {
   "cell_type": "code",
   "execution_count": 24,
   "metadata": {},
   "outputs": [
    {
     "name": "stdout",
     "output_type": "stream",
     "text": [
      "Training sample size: 126880\n",
      "Testing sample size: 31720\n"
     ]
    }
   ],
   "source": [
    "train, test = train_test_split(main, test_size=0.2, random_state=42)\n",
    "print(f\"Training sample size: {len(train)}\\nTesting sample size: {len(test)}\")"
   ]
  },
  {
   "cell_type": "code",
   "execution_count": 25,
   "metadata": {},
   "outputs": [
    {
     "name": "stderr",
     "output_type": "stream",
     "text": [
      "/home/ec2-user/anaconda3/envs/pytorch_p36/lib/python3.6/site-packages/ipykernel/__main__.py:4: SettingWithCopyWarning: \n",
      "A value is trying to be set on a copy of a slice from a DataFrame.\n",
      "Try using .loc[row_indexer,col_indexer] = value instead\n",
      "\n",
      "See the caveats in the documentation: http://pandas.pydata.org/pandas-docs/stable/indexing.html#indexing-view-versus-copy\n"
     ]
    },
    {
     "data": {
      "text/html": [
       "<div>\n",
       "<style scoped>\n",
       "    .dataframe tbody tr th:only-of-type {\n",
       "        vertical-align: middle;\n",
       "    }\n",
       "\n",
       "    .dataframe tbody tr th {\n",
       "        vertical-align: top;\n",
       "    }\n",
       "\n",
       "    .dataframe thead th {\n",
       "        text-align: right;\n",
       "    }\n",
       "</style>\n",
       "<table border=\"1\" class=\"dataframe\">\n",
       "  <thead>\n",
       "    <tr style=\"text-align: right;\">\n",
       "      <th></th>\n",
       "      <th>createdUTC</th>\n",
       "      <th>author</th>\n",
       "      <th>title</th>\n",
       "      <th>selftext</th>\n",
       "      <th>score</th>\n",
       "      <th>num_comments</th>\n",
       "      <th>title_tokens</th>\n",
       "      <th>selftext_tokens</th>\n",
       "    </tr>\n",
       "    <tr>\n",
       "      <th>id</th>\n",
       "      <th></th>\n",
       "      <th></th>\n",
       "      <th></th>\n",
       "      <th></th>\n",
       "      <th></th>\n",
       "      <th></th>\n",
       "      <th></th>\n",
       "      <th></th>\n",
       "    </tr>\n",
       "  </thead>\n",
       "  <tbody>\n",
       "    <tr>\n",
       "      <th>41z15r</th>\n",
       "      <td>1453364337</td>\n",
       "      <td>NaN</td>\n",
       "      <td>Dropped this on my sister earlier</td>\n",
       "      <td></td>\n",
       "      <td>1</td>\n",
       "      <td>0</td>\n",
       "      <td>[tensor(0), tensor(46755), tensor(5686), tenso...</td>\n",
       "      <td>[tensor(0), tensor(2)]</td>\n",
       "    </tr>\n",
       "    <tr>\n",
       "      <th>1re3ku</th>\n",
       "      <td>1385347275</td>\n",
       "      <td>laponic4</td>\n",
       "      <td>If My Child Is Ever Gay...</td>\n",
       "      <td>If I ever have a gay son, and he tells me that...</td>\n",
       "      <td>0</td>\n",
       "      <td>0</td>\n",
       "      <td>[tensor(0), tensor(1106), tensor(1308), tensor...</td>\n",
       "      <td>[tensor(0), tensor(1106), tensor(38), tensor(6...</td>\n",
       "    </tr>\n",
       "    <tr>\n",
       "      <th>4xaseo</th>\n",
       "      <td>1470961529</td>\n",
       "      <td>macromoog</td>\n",
       "      <td>Why did the man put a steak in his water heater?</td>\n",
       "      <td>He wanted to take a meatier shower.</td>\n",
       "      <td>14</td>\n",
       "      <td>1</td>\n",
       "      <td>[tensor(0), tensor(7608), tensor(222), tensor(...</td>\n",
       "      <td>[tensor(0), tensor(894), tensor(770), tensor(7...</td>\n",
       "    </tr>\n",
       "    <tr>\n",
       "      <th>2xdca9</th>\n",
       "      <td>1425057860</td>\n",
       "      <td>All_Hail_Dionysus</td>\n",
       "      <td>My grandma just sent a chain email full of the...</td>\n",
       "      <td>'Lexophile' is a word used to describe those t...</td>\n",
       "      <td>19</td>\n",
       "      <td>1</td>\n",
       "      <td>[tensor(0), tensor(2387), tensor(30894), tenso...</td>\n",
       "      <td>[tensor(0), tensor(108), tensor(43551), tensor...</td>\n",
       "    </tr>\n",
       "    <tr>\n",
       "      <th>4aqc6r</th>\n",
       "      <td>1458169776</td>\n",
       "      <td>NaN</td>\n",
       "      <td>After getting fruit in the mail</td>\n",
       "      <td></td>\n",
       "      <td>1</td>\n",
       "      <td>0</td>\n",
       "      <td>[tensor(0), tensor(4993), tensor(562), tensor(...</td>\n",
       "      <td>[tensor(0), tensor(2)]</td>\n",
       "    </tr>\n",
       "  </tbody>\n",
       "</table>\n",
       "</div>"
      ],
      "text/plain": [
       "        createdUTC             author  \\\n",
       "id                                      \n",
       "41z15r  1453364337                NaN   \n",
       "1re3ku  1385347275           laponic4   \n",
       "4xaseo  1470961529          macromoog   \n",
       "2xdca9  1425057860  All_Hail_Dionysus   \n",
       "4aqc6r  1458169776                NaN   \n",
       "\n",
       "                                                    title  \\\n",
       "id                                                          \n",
       "41z15r                  Dropped this on my sister earlier   \n",
       "1re3ku                         If My Child Is Ever Gay...   \n",
       "4xaseo   Why did the man put a steak in his water heater?   \n",
       "2xdca9  My grandma just sent a chain email full of the...   \n",
       "4aqc6r                    After getting fruit in the mail   \n",
       "\n",
       "                                                 selftext  score  \\\n",
       "id                                                                 \n",
       "41z15r                                                         1   \n",
       "1re3ku  If I ever have a gay son, and he tells me that...      0   \n",
       "4xaseo                He wanted to take a meatier shower.     14   \n",
       "2xdca9  'Lexophile' is a word used to describe those t...     19   \n",
       "4aqc6r                                                         1   \n",
       "\n",
       "        num_comments                                       title_tokens  \\\n",
       "id                                                                        \n",
       "41z15r             0  [tensor(0), tensor(46755), tensor(5686), tenso...   \n",
       "1re3ku             0  [tensor(0), tensor(1106), tensor(1308), tensor...   \n",
       "4xaseo             1  [tensor(0), tensor(7608), tensor(222), tensor(...   \n",
       "2xdca9             1  [tensor(0), tensor(2387), tensor(30894), tenso...   \n",
       "4aqc6r             0  [tensor(0), tensor(4993), tensor(562), tensor(...   \n",
       "\n",
       "                                          selftext_tokens  \n",
       "id                                                         \n",
       "41z15r                             [tensor(0), tensor(2)]  \n",
       "1re3ku  [tensor(0), tensor(1106), tensor(38), tensor(6...  \n",
       "4xaseo  [tensor(0), tensor(894), tensor(770), tensor(7...  \n",
       "2xdca9  [tensor(0), tensor(108), tensor(43551), tensor...  \n",
       "4aqc6r                             [tensor(0), tensor(2)]  "
      ]
     },
     "execution_count": 25,
     "metadata": {},
     "output_type": "execute_result"
    }
   ],
   "source": [
    "roberta.eval()\n",
    "\n",
    "def _rob_encode(df, col):\n",
    "    df[col + '_tokens'] = df[col].apply(lambda x: roberta.encode(x))\n",
    "    return df\n",
    "\n",
    "def roberta_encode(df):\n",
    "    df = _rob_encode(df, 'title')\n",
    "    df = _rob_encode(df, 'selftext')\n",
    "    return df\n",
    "\n",
    "train_dj = roberta_encode(train)\n",
    "train_dj.head()"
   ]
  },
  {
   "cell_type": "code",
   "execution_count": null,
   "metadata": {},
   "outputs": [],
   "source": []
  }
 ],
 "metadata": {
  "kernelspec": {
   "display_name": "conda_pytorch_p36",
   "language": "python",
   "name": "conda_pytorch_p36"
  },
  "language_info": {
   "codemirror_mode": {
    "name": "ipython",
    "version": 3
   },
   "file_extension": ".py",
   "mimetype": "text/x-python",
   "name": "python",
   "nbconvert_exporter": "python",
   "pygments_lexer": "ipython3",
   "version": "3.6.5"
  }
 },
 "nbformat": 4,
 "nbformat_minor": 4
}
